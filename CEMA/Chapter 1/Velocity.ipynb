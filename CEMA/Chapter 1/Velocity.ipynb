{
 "cells": [
  {
   "attachments": {},
   "cell_type": "markdown",
   "metadata": {},
   "source": [
    "# CHARACTERISTICS AND CONVEYABILITY OF BULK MATERIALS\n",
    "## EFFECT OF INCLINES AND DECLINES\n",
    "Critical relationships between belt velocity, material conveyed, and conveyor setup must be maintained to avoid spillage/lift-off and slip-back of the material on inclined or declined belts. Spillage/lift off refers to the bed of bulk solid becoming airborne at the carrying idlers at a critical speed.\n",
    "\n",
    "Slip-back refers to the bulk solid not staying in contact with the belt, but sliding backward opposite the conveying direction. Materials having the tendency to slip-back are sometimes loaded at a low incline angle and then the conveyor incline is increased using a concave curve, counting on a continuous feed to keep the material on the more steeply inclined section from slipping back. Simplified relationships for the maximum belt velocities attainable before material slip or spillage occurs on inclined or declined belts are given by:\n",
    "\n",
    "Equation 3.7: $V_{slip-back}$, maximum belt speed before material slip-back occurs\n",
    "$$ V_{slip-back} = \\sqrt{\\dfrac {S_i}{2\\pi^2 \\times Y_s}[g \\times Cos(\\theta_{belt})- \\dfrac {1}{\\mu_e} Sin(\\theta_{belt})+ \\dfrac {\\sigma_0}{\\gamma_m \\times h}]} $$\n",
    "\n",
    "Equation 3.8: $V_{spill/lift-off}$, maximum belt speed before material spill (lift-off) occurs\n",
    "$$ V_{spill/lift-off} = \\sqrt{\\dfrac {S_i}{2\\pi^2 \\times Y_s}[g \\times Cos(\\theta_{belt})+ \\dfrac {\\sigma_0}{\\gamma_m \\times h}]} $$\n"
   ]
  },
  {
   "cell_type": "code",
   "execution_count": null,
   "metadata": {},
   "outputs": [],
   "source": [
    "def "
   ]
  },
  {
   "attachments": {},
   "cell_type": "markdown",
   "metadata": {},
   "source": []
  },
  {
   "attachments": {},
   "cell_type": "markdown",
   "metadata": {},
   "source": []
  }
 ],
 "metadata": {
  "language_info": {
   "name": "python"
  },
  "orig_nbformat": 4
 },
 "nbformat": 4,
 "nbformat_minor": 2
}
