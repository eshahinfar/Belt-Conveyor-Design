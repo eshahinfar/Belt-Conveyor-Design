{
 "cells": [
  {
   "attachments": {},
   "cell_type": "markdown",
   "metadata": {},
   "source": [
    "# CHARACTERISTICS AND CONVEYABILITY OF BULK MATERIALS\n",
    "## EFFECT OF INCLINES AND DECLINES\n",
    "Critical relationships between belt velocity, material conveyed, and conveyor setup must be maintained to avoid spillage/lift-off and slip-back of the material on inclined or declined belts. Spillage/lift off refers to the bed of bulk solid becoming airborne at the carrying idlers at a critical speed.\n",
    "Slip-back refers to the bulk solid not staying in contact with the belt, but sliding backward opposite the conveying direction. Materials having the tendency to slip-back are sometimes loaded at a low incline angle and then the conveyor incline is increased using a concave curve, counting on a continuous feed to keep the material on the more steeply inclined section from slipping back. Simplified relationships for the maximum belt velocities attainable before material slip or spillage occurs on inclined or declined belts are given by:\n",
    "$$ V_slip-back = \\sqrt{S_i \\over 2Pi^2 \\ g}"
   ]
  },
  {
   "cell_type": "code",
   "execution_count": null,
   "metadata": {},
   "outputs": [],
   "source": [
    "def "
   ]
  },
  {
   "attachments": {},
   "cell_type": "markdown",
   "metadata": {},
   "source": []
  },
  {
   "attachments": {},
   "cell_type": "markdown",
   "metadata": {},
   "source": []
  }
 ],
 "metadata": {
  "language_info": {
   "name": "python"
  },
  "orig_nbformat": 4
 },
 "nbformat": 4,
 "nbformat_minor": 2
}
